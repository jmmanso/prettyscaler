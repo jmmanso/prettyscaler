{
 "cells": [
  {
   "cell_type": "markdown",
   "metadata": {},
   "source": [
    "# PrettyScaler\n",
    "\n",
    "### This python module uses input data to create a condensed isomorphic transformation $\\mathcal{T}: \\mathbf{R} \\rightarrow \\left(-1,1 \\right) $\n",
    "\n",
    "Do you usually use sklearn.preprocessing.StandardScaler to normalize your data? Sometimes, the distribution of the data can be so assymetric and heterogeneous that a better transformation is necessary. PrettyScaler acts in the same way as StandardScaler; fits a mapping from raw to normalized distributions. However, PrettyScaler will neatly condense the metric, squeezing all reals into the bound domain (-1,1) and producing a uniform density distribution.\n",
    "\n",
    "Basically, it will map each $x \\in \\mathbf{R}$ to the cumulative function of the data. Since the training data is finite, PrettyScaler will add some wings to that cumulative function so that it is defined in the entire domain. \n",
    "The wing boundaries are defined by the wing_percentile argument, which represents the p-value enclosed by each of the 2 wings. These wings are exponential functions, and are glued to the main body by enforcing that the function value and gradient match and the boundary. Thus, this **makes the extrema of the data to be tucked into (-1,1), in an asymptotic fashion**.\n",
    "\n",
    "The result of this transformation is a uniform distribution, but PrettyScaler can also output one that generates a bulge-like distribution. Depending on the \"kind\" argument in the fit() method, the probability density distributions will be:\n",
    "* $\\mathcal{P}_\\mathrm{flat}(x)=1$\n",
    "* $\\mathcal{P}_\\mathrm{bulge}(x)=1-\\cos{\\pi (x+1)}$\n",
    "\n",
    "The mapping constructed by PrettyScaler meets the following requirements:\n",
    "* $\\mathcal{T}: \\mathbf{R} \\rightarrow \\left(-1,1 \\right) $\n",
    "* $\\mathcal{T}(x)\\propto x$, monotonically increasing\n",
    "* $\\partial_x \\mathcal{T}(x)$ is non-zero, finite and positive everywhere\n",
    "\n",
    "When to use PrettyScaler:\n",
    "* The main use case is to preprocess data for neural nets and SVMs\n",
    "* It is not helpful for CART-based methods (decision trees, random forest, GBM), although it will not hurt either\n",
    "* It will completely wash out 1-D clustering signal, so don't use it for this purpose\n"
   ]
  },
  {
   "cell_type": "markdown",
   "metadata": {},
   "source": [
    "## Usage example"
   ]
  },
  {
   "cell_type": "code",
   "execution_count": 19,
   "metadata": {
    "collapsed": false
   },
   "outputs": [],
   "source": [
    "# Make some basic imports\n",
    "import matplotlib.pyplot as plt;\n",
    "%matplotlib inline\n",
    "import numpy as np;\n",
    "from prettyscaler import prettyscaler;"
   ]
  },
  {
   "cell_type": "code",
   "execution_count": 14,
   "metadata": {
    "collapsed": false
   },
   "outputs": [],
   "source": [
    "# let's create some ugly mock data. This will be a mixture\n",
    "# of a few truncated log-normal distributions:\n",
    "def create_lognormal_truncated_sample(logmu,logsig,N,sign):\n",
    "    random_sample = np.random.normal(logmu,logsig,size=N)\n",
    "    random_sample = random_sample[sign*random_sample>sign*logmu]\n",
    "    return 10**random_sample\n",
    "\n",
    "random_sample1 = create_lognormal_truncated_sample(1,1,5000,1)\n",
    "random_sample2 = create_lognormal_truncated_sample(5,.3,5000,1)\n",
    "random_sample3 = create_lognormal_truncated_sample(8,.25,5000,-1)\n",
    "random_sample = np.r_[random_sample1,random_sample2, random_sample3]"
   ]
  },
  {
   "cell_type": "code",
   "execution_count": 31,
   "metadata": {
    "collapsed": false
   },
   "outputs": [
    {
     "data": {
      "image/png": "[encoded data removed]",
      "text/plain": [
       "<matplotlib.figure.Figure at 0x115b0a8d0>"
      ]
     },
     "metadata": {},
     "output_type": "display_data"
    }
   ],
   "source": [
    "# Take a look at the monster we've created in a log plot\n",
    "plt.hist(np.log10(random_sample[random_sample>0]),bins=50);"
   ]
  },
  {
   "cell_type": "code",
   "execution_count": 15,
   "metadata": {
    "collapsed": false
   },
   "outputs": [],
   "source": [
    "# Break the random sample into train and test sets:\n",
    "np.random.shuffle(random_sample)\n",
    "test_data, train_data = random_sample[random_sample>np.median(random_sample)],\\\n",
    "    random_sample[random_sample<np.median(random_sample)]"
   ]
  },
  {
   "cell_type": "code",
   "execution_count": 16,
   "metadata": {
    "collapsed": false
   },
   "outputs": [],
   "source": [
    "# Initialize\n",
    "pts = prettyscaler.PrettyScaler()\n",
    "# Fit the data. The most important argument you need\n",
    "# to care about is the wing_percentile. Roughly,\n",
    "# set it to the fraction of your data that you would \n",
    "# consider quasi-outliers. For example, wing_percentile=0.01 \n",
    "# will result in fitting the data directly with 98% of the points,\n",
    "# and a 1% on each side is discarded (the reason for a non-zero \n",
    "# wing_percentile is that we need a robust computation of the gradient\n",
    "# at the wing boundary, and there needs to be enough data density). \n",
    "# The argument sample_size determines the size of the grid\n",
    "# that will be used to map the distribution densities. As a rule\n",
    "# of thumb, try to have wing_percentile*sample_size > 10. If sample_size\n",
    "# happens to be larger that the size of the training data, it will revert\n",
    "# to the latter.\n",
    "# Finally, ftol is the kind of the minimum difference enforced between\n",
    "# consecutive values in the cumulative density array. It is there to make sure\n",
    "# that the gradient of that array not close to being (numerically) flat anywhere.\n",
    "#\n",
    "# This might be a lot to take, but for most cases you can just\n",
    "# use the default values and not worry about it.\n",
    "#\n",
    "# So, let's fit some data:\n",
    "pts.fit(test_data, wing_percentile=0.01,ftol=1e-5,sample_size=1e3)\n",
    "# If you want to load these params later, you should save\n",
    "# them now to file:\n",
    "pts.save_pickle('fitted_params.pkl')\n",
    "# To load this state from scratch, you would just have to do:\n",
    "# pts = prettydata.PrettyData()\n",
    "# pts.load_pickle('fitted_params.pkl')"
   ]
  },
  {
   "cell_type": "code",
   "execution_count": 28,
   "metadata": {
    "collapsed": false
   },
   "outputs": [
    {
     "name": "stdout",
     "output_type": "stream",
     "text": [
      "Mapping to bulge distribution\n"
     ]
    }
   ],
   "source": [
    "# Transform the test data into a flat and bulge spaces:\n",
    "test_data_flat = pts.transform(test_data, kind='flat')\n",
    "test_data_bulge = pts.transform(test_data, kind='bulge')"
   ]
  },
  {
   "cell_type": "code",
   "execution_count": 29,
   "metadata": {
    "collapsed": false
   },
   "outputs": [
    {
     "data": {
      "image/png": "[encoded data removed]",
      "text/plain": [
       "<matplotlib.figure.Figure at 0x1158e1310>"
      ]
     },
     "metadata": {},
     "output_type": "display_data"
    }
   ],
   "source": [
    "# Plot the histogram of the flat representation\n",
    "plt.hist(test_data_flat, bins=20);"
   ]
  },
  {
   "cell_type": "code",
   "execution_count": 30,
   "metadata": {
    "collapsed": false
   },
   "outputs": [
    {
     "data": {
      "image/png": "[encoded data removed]",
      "text/plain": [
       "<matplotlib.figure.Figure at 0x115b31590>"
      ]
     },
     "metadata": {},
     "output_type": "display_data"
    }
   ],
   "source": [
    "# And a histogram of the bulge representation\n",
    "plt.hist(test_data_bulge, bins=20);"
   ]
  },
  {
   "cell_type": "markdown",
   "metadata": {
    "collapsed": true
   },
   "source": [
    "### NOTE\n",
    "In the bulge representation plot, gaps might appear toward the edges. This is because the test data used in that plot is finite, but the regions close to -1 and 1 are \"reserved\" for mappings from the $(-\\infty,+\\infty)$ original domain."
   ]
  },
  {
   "cell_type": "markdown",
   "metadata": {},
   "source": [
    "## Issues\n",
    "\n",
    "If you have strong outliers in the data, those might be mapped so close to the boundary limits (like 0.9999...) that python will numerically round them up. In these regions, the non-flat gradient requirement of the transformation is broken. You might end up with a transformed data set with more than one value being equal to 1. This is probably not an issue, since such values are outliers anyway, but it is important to keep in mind."
   ]
  }
 ],
 "metadata": {
  "kernelspec": {
   "display_name": "Python 2",
   "language": "python",
   "name": "python2"
  },
  "language_info": {
   "codemirror_mode": {
    "name": "ipython",
    "version": 2
   },
   "file_extension": ".py",
   "mimetype": "text/x-python",
   "name": "python",
   "nbconvert_exporter": "python",
   "pygments_lexer": "ipython2",
   "version": "2.7.11"
  }
 },
 "nbformat": 4,
 "nbformat_minor": 0
}
